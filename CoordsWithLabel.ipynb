{
 "cells": [
  {
   "cell_type": "code",
   "execution_count": 5,
   "id": "8e0f7e52",
   "metadata": {},
   "outputs": [],
   "source": [
    "import sys\n",
    "import io\n",
    "import os\n",
    "import decimal\n",
    "import pandas as pd\n",
    "import folium"
   ]
  },
  {
   "cell_type": "code",
   "execution_count": 6,
   "id": "ca127441",
   "metadata": {},
   "outputs": [],
   "source": [
    "# Read lines from input text file\n",
    "input_file = open('coordinates.txt', 'r')\n",
    "sys.stdin = io.StringIO(input_file.read())\n",
    "\n",
    "lines = sys.stdin.readlines()\n",
    "lines\n",
    "input_file.close()"
   ]
  },
  {
   "cell_type": "code",
   "execution_count": 7,
   "id": "c42d8597",
   "metadata": {},
   "outputs": [],
   "source": [
    "# Global variables\n",
    "stripLines=[]\n",
    "preValidLines=[]\n",
    "invalidLines=[]\n",
    "validLines=[]"
   ]
  },
  {
   "cell_type": "code",
   "execution_count": 8,
   "id": "4f31c5ab",
   "metadata": {},
   "outputs": [],
   "source": [
    "coords = pd.DataFrame(columns=['lat', 'lon', 'label'])"
   ]
  },
  {
   "cell_type": "code",
   "execution_count": 9,
   "id": "9ebe0d67",
   "metadata": {},
   "outputs": [],
   "source": [
    "# filter blank lines and comment lines which is starting with (#)\n",
    "\n",
    "for line in lines:\n",
    "    l = line.strip()\n",
    "    isCorrect = 1\n",
    "    if l != '' and l[0] != '#' and len(l)>3: # filter blank lines and comment lines\n",
    "        stripLines.append(l)  \n",
    "        "
   ]
  },
  {
   "cell_type": "code",
   "execution_count": 10,
   "id": "19ed15b3",
   "metadata": {},
   "outputs": [],
   "source": [
    "# find valid lines from prevalid lines for (,)\n",
    "for pl in stripLines:\n",
    "    pos = pl.find(',')\n",
    "    \n",
    "    # check comma (,) in coordinates \n",
    "    if pos == -1 or pos == 0 or pl[len(pl)-1] == ',' or pl.count(',')>1 or pl.count(',')==0:\n",
    "        invalidLines.append(pl)\n",
    "    else:\n",
    "        preValidLines.append(pl)\n",
    "        "
   ]
  },
  {
   "cell_type": "code",
   "execution_count": 11,
   "id": "774d27ed",
   "metadata": {},
   "outputs": [],
   "source": [
    "preValids=preValidLines.copy()"
   ]
  },
  {
   "cell_type": "code",
   "execution_count": 12,
   "id": "cefe7c19",
   "metadata": {},
   "outputs": [],
   "source": [
    "# filtering unwanted string from lines\n",
    "for pl in preValids:\n",
    "\n",
    "    ll = pl.split(',')\n",
    "    s = ll[0].strip()\n",
    "    alphaCount = 0\n",
    "    for i in range(len(s)):\n",
    "        if int(ord(s[i]))>=63:\n",
    "            alphaCount = alphaCount + 1\n",
    "            \n",
    "    if alphaCount>1:\n",
    "        invalidLines.append(pl)\n",
    "        preValidLines.remove(pl)\n"
   ]
  },
  {
   "cell_type": "code",
   "execution_count": 13,
   "id": "2d2a6333",
   "metadata": {},
   "outputs": [],
   "source": [
    "preValids=preValidLines.copy()"
   ]
  },
  {
   "cell_type": "code",
   "execution_count": 14,
   "id": "5c9c2e3d",
   "metadata": {},
   "outputs": [
    {
     "name": "stdout",
     "output_type": "stream",
     "text": [
      "Not a float\n"
     ]
    }
   ],
   "source": [
    "# filtering unwanted character in coordinates\n",
    "for pl in preValids:\n",
    "    ll = pl.split(',')\n",
    "    s = ll[0].strip()\n",
    "    lt = s.split(' ')\n",
    "                \n",
    "    s = ll[1].strip()\n",
    "    ln = s.split(' ')\n",
    "\n",
    "    try:\n",
    "        lat = float(lt[0].strip())\n",
    "        lon = float(ln[0].strip())\n",
    "        \n",
    "    except ValueError:\n",
    "        invalidLines.append(pl)\n",
    "        preValidLines.remove(pl)\n",
    "        print(\"Not a float\")\n",
    "    \n",
    "#     break"
   ]
  },
  {
   "cell_type": "code",
   "execution_count": 15,
   "id": "bda20d15",
   "metadata": {},
   "outputs": [],
   "source": [
    "preValids=preValidLines.copy()"
   ]
  },
  {
   "cell_type": "code",
   "execution_count": 16,
   "id": "7eb280d4",
   "metadata": {},
   "outputs": [],
   "source": [
    "# find single lat lon and validate\n",
    "for pl in preValids:\n",
    "    ll = pl.split(',')\n",
    "    \n",
    "    s = ll[0].strip()\n",
    "    lt = s.split(' ')\n",
    "    \n",
    "    s = ll[1].strip()\n",
    "    ln = s.split(' ')\n",
    "    \n",
    "    # remove large values from EW\n",
    "    if decimal.Decimal(lt[0])>180 or decimal.Decimal(lt[0])<-180 or decimal.Decimal(ln[0])>180 or decimal.Decimal(ln[0])<-180: \n",
    "        invalidLines.append(pl)\n",
    "        preValidLines.remove(pl)\n",
    "        continue\n",
    "    \n",
    "    # filter 6 or more decimal places\n",
    "    if decimal.Decimal(lt[0]).as_tuple().exponent<-5 or decimal.Decimal(ln[0]).as_tuple().exponent<-5: \n",
    "        invalidLines.append(pl)\n",
    "        preValidLines.remove(pl)\n",
    "        continue\n",
    "        \n",
    "    # remove negative values for NEWS\n",
    "    if len(lt)>1 and len(lt[1]) == 1 and decimal.Decimal(lt[0])<0:\n",
    "        invalidLines.append(pl)\n",
    "        preValidLines.remove(pl)\n",
    "        continue\n",
    "    if len(ln)>1 and len(ln[1]) == 1 and decimal.Decimal(ln[0])<0:\n",
    "        invalidLines.append(pl)\n",
    "        preValidLines.remove(pl)\n",
    "        continue  \n",
    "    \n",
    "    # find valid lines if the line has only decimal values with no label\n",
    "    if len(lt) == 1 and len(ln) == 1:\n",
    "        if decimal.Decimal(lt[0])>90 or decimal.Decimal(lt[0])<-90 or decimal.Decimal(ln[0])>180 or decimal.Decimal(lt[0])<-180:\n",
    "            invalidLines.append(pl)\n",
    "            preValidLines.remove(pl)\n",
    "        else:\n",
    "            validLines.append(pl)\n",
    "            preValidLines.remove(pl)\n",
    "            coords = coords.append({'lat': decimal.Decimal(lt[0]), 'lon': decimal.Decimal(ln[0]), 'label': ''}, ignore_index=True)\n",
    "            \n",
    "    # find valid lines where N/S/W/E is added with first decimal and second decimal is single    \n",
    "    elif len(lt) == 2 and len(ln) == 1:\n",
    "        # remove large values from NS\n",
    "        if (lt[1]=='N' or lt[1]=='S') and (decimal.Decimal(lt[0])>90 or decimal.Decimal(lt[0])<-90): \n",
    "            invalidLines.append(pl)\n",
    "            preValidLines.remove(pl)\n",
    "        # remove SW value if out of range\n",
    "        elif (lt[1]=='E' or lt[1]=='W') and (decimal.Decimal(ln[0])>90 or decimal.Decimal(ln[0])<-90):\n",
    "            invalidLines.append(pl)\n",
    "            preValidLines.remove(pl)\n",
    "        else:\n",
    "            validLines.append(pl)\n",
    "            preValidLines.remove(pl)\n",
    "            if lt[1] == 'N' or lt[1] == 'S':\n",
    "                coords = coords.append({'lat': decimal.Decimal(lt[0]), 'lon': decimal.Decimal(ln[0]), 'label': ''}, ignore_index=True)\n",
    "            else:\n",
    "                coords = coords.append({'lat': decimal.Decimal(ln[0]), 'lon': decimal.Decimal(lt[0]), 'label': ''}, ignore_index=True)\n",
    "    \n",
    "    # find valid lines where first decimal is single and N/S/W/E is added with second decimal      \n",
    "    elif len(lt) == 1 and len(ln) == 2:\n",
    "        # remove large values from NS\n",
    "        if len(ln[1])==1 and (ln[1]=='N' or ln[1]=='S') and (decimal.Decimal(ln[0])>90 or decimal.Decimal(ln[0])<-90): \n",
    "            invalidLines.append(pl)\n",
    "            preValidLines.remove(pl)\n",
    "        # remove SW value if out of range\n",
    "        elif len(ln[1])==1 and (ln[1]=='E' or ln[1]=='W') and (decimal.Decimal(lt[0])>90 or decimal.Decimal(lt[0])<-90):\n",
    "            invalidLines.append(pl)\n",
    "            preValidLines.remove(pl)\n",
    "        # remove if there is a label but latitude is out of range\n",
    "        elif len(ln[1])>1 and (decimal.Decimal(lt[0])>90 or decimal.Decimal(lt[0])<-90): \n",
    "            invalidLines.append(pl)\n",
    "            preValidLines.remove(pl)\n",
    "        else:\n",
    "            validLines.append(pl)\n",
    "            preValidLines.remove(pl)\n",
    "            if len(ln[1])==1 and (ln[1] == 'N' or ln[1] == 'S'):\n",
    "                coords = coords.append({'lat': decimal.Decimal(ln[0]), 'lon': decimal.Decimal(lt[0]), 'label': ''}, ignore_index=True)\n",
    "            elif len(ln[1])==1 and (ln[1] == 'E' or ln[1] == 'W'):\n",
    "                coords = coords.append({'lat': decimal.Decimal(lt[0]), 'lon': decimal.Decimal(ln[0]), 'label': ''}, ignore_index=True)\n",
    "            else:\n",
    "                coords = coords.append({'lat': decimal.Decimal(lt[0]), 'lon': decimal.Decimal(ln[0]), 'label': ln[1]}, ignore_index=True)\n",
    "    \n",
    "    # find valid lines where first decimal is single and N/S/W/E or a label is added with second decimal       \n",
    "    elif len(lt) == 1 and len(ln) > 2:\n",
    "        # remove large values from NS\n",
    "        if (ln[1]=='N' or ln[1]=='S') and (decimal.Decimal(ln[0])>90 or decimal.Decimal(ln[0])<-90): \n",
    "            invalidLines.append(pl)\n",
    "            preValidLines.remove(pl)\n",
    "        # remove if there is a label and longitude is > 90 or <-90 but latitude is out of range\n",
    "        elif len(ln[1])>1 and (decimal.Decimal(ln[0])>90 or decimal.Decimal(ln[0])<-90) and (lt[1]=='E' or lt[1]=='W' or decimal.Decimal(lt[0])>90 or decimal.Decimal(lt[0])<-90): \n",
    "            invalidLines.append(pl)\n",
    "            preValidLines.remove(pl)\n",
    "        else:\n",
    "            validLines.append(pl)\n",
    "            preValidLines.remove(pl)\n",
    "            label=''\n",
    "            if len(ln[1])==1:\n",
    "                for j in range(2, len(ln)):\n",
    "                    label += ln[j] +' '\n",
    "            else:\n",
    "                for j in range(1, len(ln)):\n",
    "                    label += ln[j] +' '\n",
    "                    \n",
    "            if len(ln[1])==1 and (ln[1] == 'N' or ln[1] == 'S'):\n",
    "                coords = coords.append({'lat': decimal.Decimal(ln[0]), 'lon': decimal.Decimal(lt[0]), 'label': label}, ignore_index=True)\n",
    "            elif len(ln[1])==1 and (ln[1] == 'E' or ln[1] == 'W'):\n",
    "                coords = coords.append({'lat': decimal.Decimal(lt[0]), 'lon': decimal.Decimal(ln[0]), 'label': label}, ignore_index=True)\n",
    "            else:\n",
    "                coords = coords.append({'lat': decimal.Decimal(lt[0]), 'lon': decimal.Decimal(ln[0]), 'label': label}, ignore_index=True)\n",
    "    \n",
    "    # find valid lines where first decimal has N/S/W/E and N/S/W/E or a label is added with second decimal  \n",
    "    elif len(lt) == 2 and len(ln) == 2:\n",
    "        # remove invalid axis\n",
    "        if (lt[1]=='N' and ln[1]=='N') or (lt[1]=='S' and ln[1]=='S') or (lt[1]=='E' and ln[1]=='E') or (lt[1]=='W' and ln[1]=='W') or (lt[1]=='N' and ln[1]=='S') or (lt[1]=='S' and ln[1]=='N') or (lt[1]=='E' and ln[1]=='W') or (lt[1]=='W' and ln[1]=='E'):\n",
    "            invalidLines.append(pl)\n",
    "            preValidLines.remove(pl)\n",
    "        # remove large values from NS\n",
    "        elif (lt[1]=='N' or lt[1]=='S') and (decimal.Decimal(lt[0])>90 or decimal.Decimal(lt[0])<-90): \n",
    "            invalidLines.append(pl)\n",
    "            preValidLines.remove(pl)\n",
    "       # remove large values from NS\n",
    "        elif len(ln[1])==1 and (ln[1]=='N' or ln[1]=='S') and (decimal.Decimal(ln[0])>90 or decimal.Decimal(ln[0])<-90): \n",
    "            invalidLines.append(pl)\n",
    "            preValidLines.remove(pl)\n",
    "        # remove if there is a label and longitude is > 90 or <-90 but latitude is out of range\n",
    "        elif len(ln[1])>1 and (decimal.Decimal(ln[0])>90 or decimal.Decimal(ln[0])<-90) and (lt[1]=='E' or lt[1]=='W' or decimal.Decimal(lt[0])>90 or decimal.Decimal(lt[0])<-90): \n",
    "            invalidLines.append(pl)\n",
    "            preValidLines.remove(pl)\n",
    "        else:\n",
    "            validLines.append(pl)\n",
    "            preValidLines.remove(pl)\n",
    "            if len(ln[1])==1 and (ln[1] == 'N' or ln[1] == 'S'):\n",
    "                coords = coords.append({'lat': decimal.Decimal(ln[0]), 'lon': decimal.Decimal(lt[0]), 'label': ''}, ignore_index=True)\n",
    "            elif len(ln[1])==1 and (ln[1] == 'E' or ln[1] == 'W'):\n",
    "                coords = coords.append({'lat': decimal.Decimal(lt[0]), 'lon': decimal.Decimal(ln[0]), 'label': ''}, ignore_index=True)\n",
    "            else:\n",
    "                coords = coords.append({'lat': decimal.Decimal(lt[0]), 'lon': decimal.Decimal(ln[0]), 'label': ln[1]}, ignore_index=True)\n",
    "            \n",
    "    # find valid lines where first decimal has N/S/W/E and second decimal has N/S/W/E and a label \n",
    "    elif len(lt) == 2 and len(ln) > 2:\n",
    "        # remove invalid axis\n",
    "        if (lt[1]=='N' and ln[1]=='N') or (lt[1]=='S' and ln[1]=='S') or (lt[1]=='E' and ln[1]=='E') or (lt[1]=='W' and ln[1]=='W') or (lt[1]=='N' and ln[1]=='S') or (lt[1]=='S' and ln[1]=='N') or (lt[1]=='E' and ln[1]=='W') or (lt[1]=='W' and ln[1]=='E'):\n",
    "            invalidLines.append(pl)\n",
    "            preValidLines.remove(pl)\n",
    "        # remove large values from NS\n",
    "        if (ln[1]=='N' or ln[1]=='S') and (decimal.Decimal(ln[0])>90 or decimal.Decimal(ln[0])<-90): \n",
    "            invalidLines.append(pl)\n",
    "            preValidLines.remove(pl)\n",
    "        # remove if there is a label and longitude is > 90 or <-90 but latitude is out of range\n",
    "        elif len(ln[1])>1 and (decimal.Decimal(ln[0])>90 or decimal.Decimal(ln[0])<-90) and (lt[1]=='E' or lt[1]=='W' or decimal.Decimal(lt[0])>90 or decimal.Decimal(lt[0])<-90): \n",
    "            invalidLines.append(pl)\n",
    "            preValidLines.remove(pl)\n",
    "        else:\n",
    "            validLines.append(pl)\n",
    "            preValidLines.remove(pl)\n",
    "            label=''\n",
    "            if len(ln[1])==1:\n",
    "                for j in range(2, len(ln)):\n",
    "                    label += ln[j] +' '\n",
    "            else:\n",
    "                for j in range(1, len(ln)):\n",
    "                    label += ln[j] +' '\n",
    "                    \n",
    "            if len(ln[1])==1 and (ln[1] == 'N' or ln[1] == 'S'):\n",
    "                coords = coords.append({'lat': decimal.Decimal(ln[0]), 'lon': decimal.Decimal(lt[0]), 'label': label}, ignore_index=True)\n",
    "            elif len(ln[1])==1 and (ln[1] == 'E' or ln[1] == 'W'):\n",
    "                coords = coords.append({'lat': decimal.Decimal(lt[0]), 'lon': decimal.Decimal(ln[0]), 'label': label}, ignore_index=True)\n",
    "            elif (lt[1] == 'E' or lt[1] == 'W') and len(ln[1])>1:\n",
    "                coords = coords.append({'lat': decimal.Decimal(ln[0]), 'lon': decimal.Decimal(lt[0]), 'label': label}, ignore_index=True)\n",
    "            elif (lt[1] == 'N' or lt[1] == 'S') and len(ln[1])>1:\n",
    "                coords = coords.append({'lat': decimal.Decimal(lt[0]), 'lon': decimal.Decimal(ln[0]), 'label': label}, ignore_index=True)\n",
    "            else:\n",
    "                coords = coords.append({'lat': decimal.Decimal(lt[0]), 'lon': decimal.Decimal(ln[0]), 'label': label}, ignore_index=True)\n",
    "        \n",
    "\n",
    "# Now we have all valid coordinates. Define latitude, longitude and label from prevalid lines\n"
   ]
  },
  {
   "cell_type": "code",
   "execution_count": 17,
   "id": "f754bdc1",
   "metadata": {},
   "outputs": [
    {
     "name": "stdout",
     "output_type": "stream",
     "text": [
      "Unable to process:\n",
      ",31.9686, 99.9018\n",
      "31.9686, 99.9018,\n",
      "31.96,86, 99.9018\n",
      "31.9686 99.9018\n",
      "this is a test\n",
      "invalid, coordinates\n",
      "hi there, how are you\n",
      "31.N9686 , 99.W9018\n",
      "91.21, 75.22\n",
      "23.55, 182.33\n",
      "-91.21, 75.22\n",
      "23.55, -182.33\n",
      "-190.22, 58.332\n",
      "-34.0489 N, -111.0937 W\n",
      "11.0937 W, 94.0489 N\n",
      "94.0489 S, 11.0937 W\n",
      "34.0489 N, -111.0937 W Any Area\n",
      "3.22121212, 5.25454545454\n",
      "3.22, 5.25454545454\n"
     ]
    }
   ],
   "source": [
    "print('Unable to process:')\n",
    "for l in invalidLines:\n",
    "    print(l)\n",
    "# print(validLines)\n",
    "# print(preValidLines)\n",
    "# print(invalidLines)\n",
    "# print(coords)"
   ]
  },
  {
   "cell_type": "code",
   "execution_count": 18,
   "id": "1f5f4dfd",
   "metadata": {},
   "outputs": [
    {
     "name": "stdout",
     "output_type": "stream",
     "text": [
      "       lat       lon                  label\n",
      "0  31.9686   99.9018                  Texas\n",
      "1  36.7783  119.4179            California \n",
      "2  34.0489  111.0937                       \n",
      "3  34.4452  111.5584                       \n",
      "4  36.1716  115.1391                       \n",
      "5     45.9     170.5               Dunedin \n",
      "6   -50.00      23.6                       \n",
      "7     23.6     50.00       This is a Label \n",
      "8  50.5556   23.6999  This is also a Label \n"
     ]
    }
   ],
   "source": [
    "print(coords) # these are final coordinates"
   ]
  },
  {
   "cell_type": "code",
   "execution_count": 19,
   "id": "13f5f39e",
   "metadata": {},
   "outputs": [
    {
     "name": "stdout",
     "output_type": "stream",
     "text": [
      "{\"type\": \"FeatureCollection\", \"features\": [{\"type\": \"Feature\",\"properties\": {\"label\": \"Texas\"},\"geometry\": {\"type\": \"Point\",\"coordinates\": [99.9018,31.9686]}},{\"type\": \"Feature\",\"properties\": {\"label\": \"California \"},\"geometry\": {\"type\": \"Point\",\"coordinates\": [119.4179,36.7783]}},{\"type\": \"Feature\",\"properties\": {\"label\": \"\"},\"geometry\": {\"type\": \"Point\",\"coordinates\": [111.0937,34.0489]}},{\"type\": \"Feature\",\"properties\": {\"label\": \"\"},\"geometry\": {\"type\": \"Point\",\"coordinates\": [111.5584,34.4452]}},{\"type\": \"Feature\",\"properties\": {\"label\": \"\"},\"geometry\": {\"type\": \"Point\",\"coordinates\": [115.1391,36.1716]}},{\"type\": \"Feature\",\"properties\": {\"label\": \"Dunedin \"},\"geometry\": {\"type\": \"Point\",\"coordinates\": [170.5,45.9]}},{\"type\": \"Feature\",\"properties\": {\"label\": \"\"},\"geometry\": {\"type\": \"Point\",\"coordinates\": [23.6,-50.00]}},{\"type\": \"Feature\",\"properties\": {\"label\": \"This is a Label \"},\"geometry\": {\"type\": \"Point\",\"coordinates\": [50.00,23.6]}},{\"type\": \"Feature\",\"properties\": {\"label\": \"This is also a Label \"},\"geometry\": {\"type\": \"Point\",\"coordinates\": [23.6999,50.5556]}}]}\n"
     ]
    }
   ],
   "source": [
    "# Prepare geojson string\n",
    "geojson_string='{\"type\": \"FeatureCollection\", \"features\": ['\n",
    "for index, row in coords.iterrows():\n",
    "    \n",
    "    lt=\"{}\".format(row['lat'])\n",
    "    ln=\"{}\".format(row['lon'])\n",
    "    \n",
    "    geojson_string += '{\"type\": \"Feature\",\"properties\": {\"label\": \"'+ row['label'] +'\"},'\n",
    "    geojson_string += '\"geometry\": {\"type\": \"Point\",\"coordinates\": ['+ ln +','+ lt +']}}'\n",
    "    \n",
    "    if index != len(coords)-1:\n",
    "        geojson_string += ','\n",
    "    \n",
    "#     geojson_string += \"{'type': 'Feature', 'properties': { 'label': '\"+ row['label'] +\"' },\"\n",
    "#     geojson_string += \" 'geometry': { 'type': 'Point', 'coordinates': [\"+ ln +\", \"+ lt +\"]}},\"\n",
    "    \n",
    "geojson_string += \"]}\"\n",
    "\n",
    "print(geojson_string)    "
   ]
  },
  {
   "cell_type": "code",
   "execution_count": 20,
   "id": "820a9780",
   "metadata": {},
   "outputs": [],
   "source": [
    "# write geojson string to geojson file\n",
    "if os.path.exists(\"points.json\"):\n",
    "    os.remove(\"points.json\")\n",
    "f = open(\"points.json\", \"w\")\n",
    "f.write(geojson_string)\n",
    "f.close()"
   ]
  },
  {
   "cell_type": "code",
   "execution_count": 23,
   "id": "fca4a75b",
   "metadata": {},
   "outputs": [
    {
     "data": {
      "text/plain": [
       "<folium.map.LayerControl at 0x1b7db3a9dc0>"
      ]
     },
     "execution_count": 23,
     "metadata": {},
     "output_type": "execute_result"
    }
   ],
   "source": [
    "# read geojson from json file and add them to map as marker/point\n",
    "points = f\"points.json\"\n",
    "\n",
    "m = folium.Map(\n",
    "    location=[-59.1759, -11.6016],\n",
    "    zoom_start=1,\n",
    ")\n",
    "\n",
    "folium.GeoJson(points, name=\"Points\").add_to(m)\n",
    "\n",
    "folium.LayerControl().add_to(m)\n"
   ]
  },
  {
   "cell_type": "code",
   "execution_count": 24,
   "id": "840fb405",
   "metadata": {},
   "outputs": [
    {
     "data": {
      "text/html": [
       "<div style=\"width:100%;\"><div style=\"position:relative;width:100%;height:0;padding-bottom:60%;\"><span style=\"color:#565656\">Make this Notebook Trusted to load map: File -> Trust Notebook</span><iframe src=\"about:blank\" style=\"position:absolute;width:100%;height:100%;left:0;top:0;border:none !important;\" data-html=%3C%21DOCTYPE%20html%3E%0A%3Chead%3E%20%20%20%20%0A%20%20%20%20%3Cmeta%20http-equiv%3D%22content-type%22%20content%3D%22text/html%3B%20charset%3DUTF-8%22%20/%3E%0A%20%20%20%20%0A%20%20%20%20%20%20%20%20%3Cscript%3E%0A%20%20%20%20%20%20%20%20%20%20%20%20L_NO_TOUCH%20%3D%20false%3B%0A%20%20%20%20%20%20%20%20%20%20%20%20L_DISABLE_3D%20%3D%20false%3B%0A%20%20%20%20%20%20%20%20%3C/script%3E%0A%20%20%20%20%0A%20%20%20%20%3Cstyle%3Ehtml%2C%20body%20%7Bwidth%3A%20100%25%3Bheight%3A%20100%25%3Bmargin%3A%200%3Bpadding%3A%200%3B%7D%3C/style%3E%0A%20%20%20%20%3Cstyle%3E%23map%20%7Bposition%3Aabsolute%3Btop%3A0%3Bbottom%3A0%3Bright%3A0%3Bleft%3A0%3B%7D%3C/style%3E%0A%20%20%20%20%3Cscript%20src%3D%22https%3A//cdn.jsdelivr.net/npm/leaflet%401.6.0/dist/leaflet.js%22%3E%3C/script%3E%0A%20%20%20%20%3Cscript%20src%3D%22https%3A//code.jquery.com/jquery-1.12.4.min.js%22%3E%3C/script%3E%0A%20%20%20%20%3Cscript%20src%3D%22https%3A//maxcdn.bootstrapcdn.com/bootstrap/3.2.0/js/bootstrap.min.js%22%3E%3C/script%3E%0A%20%20%20%20%3Cscript%20src%3D%22https%3A//cdnjs.cloudflare.com/ajax/libs/Leaflet.awesome-markers/2.0.2/leaflet.awesome-markers.js%22%3E%3C/script%3E%0A%20%20%20%20%3Clink%20rel%3D%22stylesheet%22%20href%3D%22https%3A//cdn.jsdelivr.net/npm/leaflet%401.6.0/dist/leaflet.css%22/%3E%0A%20%20%20%20%3Clink%20rel%3D%22stylesheet%22%20href%3D%22https%3A//maxcdn.bootstrapcdn.com/bootstrap/3.2.0/css/bootstrap.min.css%22/%3E%0A%20%20%20%20%3Clink%20rel%3D%22stylesheet%22%20href%3D%22https%3A//maxcdn.bootstrapcdn.com/bootstrap/3.2.0/css/bootstrap-theme.min.css%22/%3E%0A%20%20%20%20%3Clink%20rel%3D%22stylesheet%22%20href%3D%22https%3A//maxcdn.bootstrapcdn.com/font-awesome/4.6.3/css/font-awesome.min.css%22/%3E%0A%20%20%20%20%3Clink%20rel%3D%22stylesheet%22%20href%3D%22https%3A//cdnjs.cloudflare.com/ajax/libs/Leaflet.awesome-markers/2.0.2/leaflet.awesome-markers.css%22/%3E%0A%20%20%20%20%3Clink%20rel%3D%22stylesheet%22%20href%3D%22https%3A//cdn.jsdelivr.net/gh/python-visualization/folium/folium/templates/leaflet.awesome.rotate.min.css%22/%3E%0A%20%20%20%20%0A%20%20%20%20%20%20%20%20%20%20%20%20%3Cmeta%20name%3D%22viewport%22%20content%3D%22width%3Ddevice-width%2C%0A%20%20%20%20%20%20%20%20%20%20%20%20%20%20%20%20initial-scale%3D1.0%2C%20maximum-scale%3D1.0%2C%20user-scalable%3Dno%22%20/%3E%0A%20%20%20%20%20%20%20%20%20%20%20%20%3Cstyle%3E%0A%20%20%20%20%20%20%20%20%20%20%20%20%20%20%20%20%23map_8ed141ba8dc34a3babbbe589af64d7c3%20%7B%0A%20%20%20%20%20%20%20%20%20%20%20%20%20%20%20%20%20%20%20%20position%3A%20relative%3B%0A%20%20%20%20%20%20%20%20%20%20%20%20%20%20%20%20%20%20%20%20width%3A%20100.0%25%3B%0A%20%20%20%20%20%20%20%20%20%20%20%20%20%20%20%20%20%20%20%20height%3A%20100.0%25%3B%0A%20%20%20%20%20%20%20%20%20%20%20%20%20%20%20%20%20%20%20%20left%3A%200.0%25%3B%0A%20%20%20%20%20%20%20%20%20%20%20%20%20%20%20%20%20%20%20%20top%3A%200.0%25%3B%0A%20%20%20%20%20%20%20%20%20%20%20%20%20%20%20%20%7D%0A%20%20%20%20%20%20%20%20%20%20%20%20%3C/style%3E%0A%20%20%20%20%20%20%20%20%0A%3C/head%3E%0A%3Cbody%3E%20%20%20%20%0A%20%20%20%20%0A%20%20%20%20%20%20%20%20%20%20%20%20%3Cdiv%20class%3D%22folium-map%22%20id%3D%22map_8ed141ba8dc34a3babbbe589af64d7c3%22%20%3E%3C/div%3E%0A%20%20%20%20%20%20%20%20%0A%3C/body%3E%0A%3Cscript%3E%20%20%20%20%0A%20%20%20%20%0A%20%20%20%20%20%20%20%20%20%20%20%20var%20map_8ed141ba8dc34a3babbbe589af64d7c3%20%3D%20L.map%28%0A%20%20%20%20%20%20%20%20%20%20%20%20%20%20%20%20%22map_8ed141ba8dc34a3babbbe589af64d7c3%22%2C%0A%20%20%20%20%20%20%20%20%20%20%20%20%20%20%20%20%7B%0A%20%20%20%20%20%20%20%20%20%20%20%20%20%20%20%20%20%20%20%20center%3A%20%5B-59.1759%2C%20-11.6016%5D%2C%0A%20%20%20%20%20%20%20%20%20%20%20%20%20%20%20%20%20%20%20%20crs%3A%20L.CRS.EPSG3857%2C%0A%20%20%20%20%20%20%20%20%20%20%20%20%20%20%20%20%20%20%20%20zoom%3A%201%2C%0A%20%20%20%20%20%20%20%20%20%20%20%20%20%20%20%20%20%20%20%20zoomControl%3A%20true%2C%0A%20%20%20%20%20%20%20%20%20%20%20%20%20%20%20%20%20%20%20%20preferCanvas%3A%20false%2C%0A%20%20%20%20%20%20%20%20%20%20%20%20%20%20%20%20%7D%0A%20%20%20%20%20%20%20%20%20%20%20%20%29%3B%0A%0A%20%20%20%20%20%20%20%20%20%20%20%20%0A%0A%20%20%20%20%20%20%20%20%0A%20%20%20%20%0A%20%20%20%20%20%20%20%20%20%20%20%20var%20tile_layer_e1bd3a2b179a4cbdaf2ac59418748f7c%20%3D%20L.tileLayer%28%0A%20%20%20%20%20%20%20%20%20%20%20%20%20%20%20%20%22https%3A//%7Bs%7D.tile.openstreetmap.org/%7Bz%7D/%7Bx%7D/%7By%7D.png%22%2C%0A%20%20%20%20%20%20%20%20%20%20%20%20%20%20%20%20%7B%22attribution%22%3A%20%22Data%20by%20%5Cu0026copy%3B%20%5Cu003ca%20href%3D%5C%22http%3A//openstreetmap.org%5C%22%5Cu003eOpenStreetMap%5Cu003c/a%5Cu003e%2C%20under%20%5Cu003ca%20href%3D%5C%22http%3A//www.openstreetmap.org/copyright%5C%22%5Cu003eODbL%5Cu003c/a%5Cu003e.%22%2C%20%22detectRetina%22%3A%20false%2C%20%22maxNativeZoom%22%3A%2018%2C%20%22maxZoom%22%3A%2018%2C%20%22minZoom%22%3A%200%2C%20%22noWrap%22%3A%20false%2C%20%22opacity%22%3A%201%2C%20%22subdomains%22%3A%20%22abc%22%2C%20%22tms%22%3A%20false%7D%0A%20%20%20%20%20%20%20%20%20%20%20%20%29.addTo%28map_8ed141ba8dc34a3babbbe589af64d7c3%29%3B%0A%20%20%20%20%20%20%20%20%0A%20%20%20%20%0A%0A%20%20%20%20%20%20%20%20function%20geo_json_7b9acd8203dc4496b6b83246a6fc658b_onEachFeature%28feature%2C%20layer%29%20%7B%0A%20%20%20%20%20%20%20%20%20%20%20%20layer.on%28%7B%0A%20%20%20%20%20%20%20%20%20%20%20%20%7D%29%3B%0A%20%20%20%20%20%20%20%20%7D%3B%0A%20%20%20%20%20%20%20%20var%20geo_json_7b9acd8203dc4496b6b83246a6fc658b%20%3D%20L.geoJson%28null%2C%20%7B%0A%20%20%20%20%20%20%20%20%20%20%20%20%20%20%20%20onEachFeature%3A%20geo_json_7b9acd8203dc4496b6b83246a6fc658b_onEachFeature%2C%0A%20%20%20%20%20%20%20%20%20%20%20%20%0A%20%20%20%20%20%20%20%20%7D%29%3B%0A%0A%20%20%20%20%20%20%20%20function%20geo_json_7b9acd8203dc4496b6b83246a6fc658b_add%20%28data%29%20%7B%0A%20%20%20%20%20%20%20%20%20%20%20%20geo_json_7b9acd8203dc4496b6b83246a6fc658b%0A%20%20%20%20%20%20%20%20%20%20%20%20%20%20%20%20.addData%28data%29%0A%20%20%20%20%20%20%20%20%20%20%20%20%20%20%20%20.addTo%28map_8ed141ba8dc34a3babbbe589af64d7c3%29%3B%0A%20%20%20%20%20%20%20%20%7D%0A%20%20%20%20%20%20%20%20%20%20%20%20geo_json_7b9acd8203dc4496b6b83246a6fc658b_add%28%7B%22features%22%3A%20%5B%7B%22geometry%22%3A%20%7B%22coordinates%22%3A%20%5B99.9018%2C%2031.9686%5D%2C%20%22type%22%3A%20%22Point%22%7D%2C%20%22properties%22%3A%20%7B%22label%22%3A%20%22Texas%22%7D%2C%20%22type%22%3A%20%22Feature%22%7D%2C%20%7B%22geometry%22%3A%20%7B%22coordinates%22%3A%20%5B119.4179%2C%2036.7783%5D%2C%20%22type%22%3A%20%22Point%22%7D%2C%20%22properties%22%3A%20%7B%22label%22%3A%20%22California%20%22%7D%2C%20%22type%22%3A%20%22Feature%22%7D%2C%20%7B%22geometry%22%3A%20%7B%22coordinates%22%3A%20%5B111.0937%2C%2034.0489%5D%2C%20%22type%22%3A%20%22Point%22%7D%2C%20%22properties%22%3A%20%7B%22label%22%3A%20%22%22%7D%2C%20%22type%22%3A%20%22Feature%22%7D%2C%20%7B%22geometry%22%3A%20%7B%22coordinates%22%3A%20%5B111.5584%2C%2034.4452%5D%2C%20%22type%22%3A%20%22Point%22%7D%2C%20%22properties%22%3A%20%7B%22label%22%3A%20%22%22%7D%2C%20%22type%22%3A%20%22Feature%22%7D%2C%20%7B%22geometry%22%3A%20%7B%22coordinates%22%3A%20%5B115.1391%2C%2036.1716%5D%2C%20%22type%22%3A%20%22Point%22%7D%2C%20%22properties%22%3A%20%7B%22label%22%3A%20%22%22%7D%2C%20%22type%22%3A%20%22Feature%22%7D%2C%20%7B%22geometry%22%3A%20%7B%22coordinates%22%3A%20%5B170.5%2C%2045.9%5D%2C%20%22type%22%3A%20%22Point%22%7D%2C%20%22properties%22%3A%20%7B%22label%22%3A%20%22Dunedin%20%22%7D%2C%20%22type%22%3A%20%22Feature%22%7D%2C%20%7B%22geometry%22%3A%20%7B%22coordinates%22%3A%20%5B23.6%2C%20-50.0%5D%2C%20%22type%22%3A%20%22Point%22%7D%2C%20%22properties%22%3A%20%7B%22label%22%3A%20%22%22%7D%2C%20%22type%22%3A%20%22Feature%22%7D%2C%20%7B%22geometry%22%3A%20%7B%22coordinates%22%3A%20%5B50.0%2C%2023.6%5D%2C%20%22type%22%3A%20%22Point%22%7D%2C%20%22properties%22%3A%20%7B%22label%22%3A%20%22This%20is%20a%20Label%20%22%7D%2C%20%22type%22%3A%20%22Feature%22%7D%2C%20%7B%22geometry%22%3A%20%7B%22coordinates%22%3A%20%5B23.6999%2C%2050.5556%5D%2C%20%22type%22%3A%20%22Point%22%7D%2C%20%22properties%22%3A%20%7B%22label%22%3A%20%22This%20is%20also%20a%20Label%20%22%7D%2C%20%22type%22%3A%20%22Feature%22%7D%5D%2C%20%22type%22%3A%20%22FeatureCollection%22%7D%29%3B%0A%0A%20%20%20%20%20%20%20%20%0A%20%20%20%20%0A%20%20%20%20%20%20%20%20%20%20%20%20var%20layer_control_30973b5f0c69459793e477354f61ff03%20%3D%20%7B%0A%20%20%20%20%20%20%20%20%20%20%20%20%20%20%20%20base_layers%20%3A%20%7B%0A%20%20%20%20%20%20%20%20%20%20%20%20%20%20%20%20%20%20%20%20%22openstreetmap%22%20%3A%20tile_layer_e1bd3a2b179a4cbdaf2ac59418748f7c%2C%0A%20%20%20%20%20%20%20%20%20%20%20%20%20%20%20%20%7D%2C%0A%20%20%20%20%20%20%20%20%20%20%20%20%20%20%20%20overlays%20%3A%20%20%7B%0A%20%20%20%20%20%20%20%20%20%20%20%20%20%20%20%20%20%20%20%20%22Points%22%20%3A%20geo_json_7b9acd8203dc4496b6b83246a6fc658b%2C%0A%20%20%20%20%20%20%20%20%20%20%20%20%20%20%20%20%7D%2C%0A%20%20%20%20%20%20%20%20%20%20%20%20%7D%3B%0A%20%20%20%20%20%20%20%20%20%20%20%20L.control.layers%28%0A%20%20%20%20%20%20%20%20%20%20%20%20%20%20%20%20layer_control_30973b5f0c69459793e477354f61ff03.base_layers%2C%0A%20%20%20%20%20%20%20%20%20%20%20%20%20%20%20%20layer_control_30973b5f0c69459793e477354f61ff03.overlays%2C%0A%20%20%20%20%20%20%20%20%20%20%20%20%20%20%20%20%7B%22autoZIndex%22%3A%20true%2C%20%22collapsed%22%3A%20true%2C%20%22position%22%3A%20%22topright%22%7D%0A%20%20%20%20%20%20%20%20%20%20%20%20%29.addTo%28map_8ed141ba8dc34a3babbbe589af64d7c3%29%3B%0A%20%20%20%20%20%20%20%20%0A%3C/script%3E onload=\"this.contentDocument.open();this.contentDocument.write(    decodeURIComponent(this.getAttribute('data-html')));this.contentDocument.close();\" allowfullscreen webkitallowfullscreen mozallowfullscreen></iframe></div></div>"
      ],
      "text/plain": [
       "<folium.folium.Map at 0x1b7db3cf760>"
      ]
     },
     "execution_count": 24,
     "metadata": {},
     "output_type": "execute_result"
    }
   ],
   "source": [
    "m"
   ]
  },
  {
   "cell_type": "code",
   "execution_count": null,
   "id": "1f1589a9",
   "metadata": {},
   "outputs": [],
   "source": []
  }
 ],
 "metadata": {
  "kernelspec": {
   "display_name": "Python 3",
   "language": "python",
   "name": "python3"
  },
  "language_info": {
   "codemirror_mode": {
    "name": "ipython",
    "version": 3
   },
   "file_extension": ".py",
   "mimetype": "text/x-python",
   "name": "python",
   "nbconvert_exporter": "python",
   "pygments_lexer": "ipython3",
   "version": "3.8.8"
  }
 },
 "nbformat": 4,
 "nbformat_minor": 5
}
